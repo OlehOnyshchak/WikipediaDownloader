{
 "cells": [
  {
   "cell_type": "markdown",
   "metadata": {},
   "source": [
    "# Sample Dataset Collection\n",
    "Please use online [Kaggle notebook](https://www.kaggle.com/jacksoncrow/data-collection-demo) to avoid extra efforts of setting up the environment. In case you want to run this locally, Kaggle notebook would still be handy as a reference since we are setting up the environment there from scratch.\n",
    "\n",
    "## Constant definition\n",
    "\n",
    "Fist of all, we need to specify some input parameters to our script. That is, input file with articles we want to download + parameters on how to download them.\n",
    "\n",
    "### Input file\n",
    "It should be a file with article ids specified one per line. By article id here we mean last part of its URL. That is, for the article with URL https://en.wikipedia.org/wiki/The_Relapse on English Wikipedia, the id would be `The_Relapse`. Please note, that all article ids you specified in a file should be from the same Wikipedia, i.e. either all English or all Ukrainian.\n",
    "\n",
    "### Parameters\n",
    "Then you need to specify a variety of parameters to fine-tune the collection script. On a high level, the script accounts to any previously downloaded information to increase the performance. In other words, once you downloaded a dataset from scratch, updating it will take very little time. That is because most of the data will be already downloaded and unmodified since the last collection.\n",
    "\n",
    "In other words, since script leverages cache, you can interrupt and then restart the collection script at any time without the need to start everything from scratch. You can also specify, what precisely you want the script to do 1) download missing articles and images from the input file 2) check that image metadata of already downloaded articles is up to date 3) force redownload off all images and/or image metadata and/or article text content. You can also execute the script from multiple notebooks/consoles with the same output directory to parallelise the collection process. That will significantly reduce the download time, although you need to beware that not any (offset, limit) parameters overlap. We are planning to add support of multithreading in the future, so now it's the only workaround. If you more details on parameters, please refer to documentation in the corresponding python file."
   ]
  },
  {
   "cell_type": "code",
   "execution_count": 10,
   "metadata": {},
   "outputs": [
    {
     "data": {
      "text/plain": [
       "'data/'"
      ]
     },
     "execution_count": 10,
     "metadata": {},
     "output_type": "execute_result"
    }
   ],
   "source": [
    "0) data/The_Relapse\n",
    "\n",
    "1) data/Pendle_witches\n",
    "\n",
    "2) data/Kylfings\n",
    "\n",
    "3) data/Rampart_Dam\n",
    "\n",
    "4) data/The_Lucy_poems"
   ]
  },
  {
   "cell_type": "code",
   "execution_count": 1,
   "metadata": {},
   "outputs": [
    {
     "name": "stderr",
     "output_type": "stream",
     "text": [
      "Using TensorFlow backend.\n"
     ]
    }
   ],
   "source": [
    "import reader\n",
    "import data_preprocessor"
   ]
  },
  {
   "cell_type": "code",
   "execution_count": 2,
   "metadata": {},
   "outputs": [],
   "source": [
    "filename = 'featured_articles_list.tsv'\n",
    "out_dir = 'data/'#'../WikiImageRecommendation/data/' \n",
    "invalidate_caption_cache = False\n",
    "invalidate_headings_cache = True\n",
    "\n",
    "query_params = reader.QueryParams(\n",
    "    out_dir = out_dir,\n",
    "    debug_info = True,\n",
    "    offset = 0,\n",
    "    limit = 5,\n",
    "    invalidate_img_cache = False,\n",
    "    invalidate_text_cache = False,\n",
    "    invalidate_img_meta_cache = True,\n",
    "    invalidate_oudated_img_meta_cache = False,\n",
    "    only_update_cached_pages = False,\n",
    "    language_code = 'en',\n",
    ")"
   ]
  },
  {
   "cell_type": "markdown",
   "metadata": {},
   "source": [
    "## Data Collection 1. Main Part\n",
    "In this section, the script will do the major part of the work. That is, for each specified article it will download its textual content, all its images and also some image metadata such as description parsed from Wikimedia Commons page. For details about what is being collected and what is the structure of the dataset, please refer to [Kaggle Dataset Page](https://www.kaggle.com/jacksoncrow/extended-wikipedia-multimodal-dataset)"
   ]
  },
  {
   "cell_type": "code",
   "execution_count": 3,
   "metadata": {
    "scrolled": true
   },
   "outputs": [
    {
     "name": "stdout",
     "output_type": "stream",
     "text": [
      "Downloading... offset=0, limit=5\n",
      "\n",
      "0) data/The_Relapse\n",
      "Updating image metadata\n",
      "\n",
      "1) data/Pendle_witches\n",
      "Updating image metadata\n",
      "\n",
      "2) data/Kylfings\n",
      "Updating image metadata\n",
      "\n",
      "3) data/Rampart_Dam\n",
      "Updating image metadata\n",
      "\n",
      "4) data/The_Lucy_poems\n",
      "Updating image metadata\n",
      "\n",
      "Downloaded 0 images, where 0 of them unavailable from commons\n",
      "CPU times: user 1.95 s, sys: 36.4 ms, total: 1.99 s\n",
      "Wall time: 22.4 s\n"
     ]
    }
   ],
   "source": [
    "%%time\n",
    "reader.query(filename=filename, params=query_params)"
   ]
  },
  {
   "cell_type": "markdown",
   "metadata": {},
   "source": [
    "## Data Preprocessing 1. Removing images not available on Commons\n",
    "Before proceeding to the costly operation of additional image caption downloading&parsing, we will first remove all images not available from Wikimedia Commons dataset. Usually, those are the images which were licensed only for usage in a specific article and are not publicly available. They constitute around 5-7% of pictures, so for now, we are just removing them. Still, later we might investigate licensing condition and, if allowed, include them to the dataset."
   ]
  },
  {
   "cell_type": "code",
   "execution_count": 4,
   "metadata": {
    "scrolled": true
   },
   "outputs": [
    {
     "name": "stdout",
     "output_type": "stream",
     "text": [
      "0 data/The_Lucy_poems\n",
      "1 data/Rampart_Dam\n",
      "2 data/The_Relapse\n",
      "3 data/Pendle_witches\n",
      "4 data/Kylfings\n"
     ]
    }
   ],
   "source": [
    "data_preprocessor.filter_img_metadata(\n",
    "    data_path=query_params.out_dir,\n",
    "    offset=query_params.offset,\n",
    "    limit=query_params.limit, \n",
    "    debug_info=query_params.debug_info,\n",
    "    field_to_remove='on_commons',\n",
    "    predicate=lambda x: x['on_commons']\n",
    ")"
   ]
  },
  {
   "cell_type": "markdown",
   "metadata": {},
   "source": [
    "## Data Collection 2. Image Captions\n",
    "This part was separated from the main pipeline because it's very time consuming and we need to use it carefully and only when it's required. This function is firstly trying to parse as many captions as possible with a fast but unreliable approach. After that, it gathers all remaining captions with a time-consuming method, which is to download HTML preview-pages for each image in the article. Furthermore, it's dynamically generated content by javascript. Thus we need to execute that generating code internally when loading the page.\n",
    "\n",
    "Again, if you need further details, please refer to [Kaggle Dataset Page](https://www.kaggle.com/jacksoncrow/extended-wikipedia-multimodal-dataset)"
   ]
  },
  {
   "cell_type": "code",
   "execution_count": 5,
   "metadata": {
    "scrolled": true
   },
   "outputs": [
    {
     "name": "stdout",
     "output_type": "stream",
     "text": [
      "Querying available captions with fast approach\n",
      "\n",
      "0 data/The_Relapse\n",
      "1 data/Pendle_witches\n",
      "2 data/Kylfings\n",
      "3 data/Rampart_Dam\n",
      "4 data/The_Lucy_poems\n",
      "\n",
      "Querying remaining unparsed caption with time-consuming approach\n",
      "\n",
      "\n",
      "0) data/The_Relapse\n",
      "Downloading captions for https://en.wikipedia.org/wiki/The_Relapse#/media/File:Colley_Cibber_as_Lord_Foppington_clipped.jpg\n",
      "Skipping cached caption Colley_Cibber_as_Lord_Foppington_in_The_Relapse_by_John_Vanbrugh_engraving.jpg\n",
      "Skipping cached caption John_Vanbrugh.jpg\n",
      "Skipping cached caption Love'sLastShift_characters.png\n",
      "Skipping cached caption Relapse_characters.png\n",
      "Skipping cached caption William_Powell_Frith_The_Relapse_Midnight_Alarm_3-3.jpg\n",
      "Skipping known icon Commons-logo.svg\n",
      "Skipping known icon Cscr-featured.svg\n",
      "\n",
      "1) data/Pendle_witches\n",
      "Skipping cached caption Alice_Nutter_Statue.tif\n",
      "Skipping cached caption ChattoxFamily.png\n",
      "Skipping cached caption DemdikeFamily.png\n",
      "Skipping known icon England_relief_location_map.jpg\n",
      "Skipping cached caption Lancaster_Castle.jpg\n",
      "Skipping cached caption Nance_Redferne_&_Chattox.jpg\n",
      "Skipping cached caption Pendle_Hill_1612_painting.tif\n",
      "Skipping cached caption Pendle_Hill_above_mist_235-0004.jpg\n",
      "Skipping cached caption Pendle_Travel_Limited_2755_PJ05_ZWB_Jane_Bulcock.jpg\n",
      "Skipping cached caption Potts.png\n",
      "Skipping known icon Red_pog.svg\n",
      "Skipping known icon Cscr-featured.svg\n",
      "\n",
      "2) data/Kylfings\n",
      "Skipping cached caption Norslundastenen.jpg\n",
      "Skipping cached caption Norwegian_petty_kingdoms_ca._872.svg\n",
      "Skipping cached caption Solis_Occasus_in_Sino_Bothnico.jpg\n",
      "Downloading captions for https://en.wikipedia.org/wiki/Kylfings#/media/File:SÖ179_Gripsholm_Runestone.jpg\n",
      "Skipping cached caption Sö_318,_Sund.jpg\n",
      "Skipping cached caption The_body_of_Leo_V_is_dragged_to_the_Hippodrome_through_the_Skyla_Gate.jpg\n",
      "Skipping known icon Cscr-featured.svg\n",
      "\n",
      "3) data/Rampart_Dam\n",
      "Downloading captions for https://en.wikipedia.org/wiki/Rampart_Dam#/media/File:Artist's_rendition_of_Rampart_Canyon_Dam.jpg\n",
      "Skipping cached caption Rampart_Canyon.jpg\n",
      "Skipping cached caption Rampart_Dam_drainage.jpg\n",
      "Skipping cached caption Rampart_Dam_plan.jpg\n",
      "Skipping cached caption Rampart_Dam_site.jpg\n",
      "Skipping cached caption Rampart_reservoir_map.jpg\n",
      "Skipping known icon Red_pog.svg\n",
      "Downloading captions for https://en.wikipedia.org/wiki/Rampart_Dam#/media/File:Relief_map_of_USA_Alaska.png\n",
      "Skipping known icon Wind-turbine-icon.svg\n",
      "Skipping known icon Cscr-featured.svg\n",
      "\n",
      "4) data/The_Lucy_poems\n",
      "Skipping cached caption Dorothy_Wordsworth_2.jpg\n",
      "Skipping cached caption Lyrical_Ballads.jpg\n",
      "Skipping cached caption Margaret_Oliphant_Wilson_Oliphant.jpg\n",
      "Skipping cached caption SamuelTaylorColeridge.jpg\n",
      "Skipping known icon Wikisource-logo.svg\n",
      "Skipping cached caption William_Wordsworth_at_28_by_William_Shuter2.jpg\n",
      "Skipping cached caption Wordsworth_on_Helvellyn_by_Benjamin_Robert_Haydon.jpg\n",
      "Skipping known icon Cscr-featured.svg\n",
      "{'England_relief_location_map.jpg', 'Wind-turbine-icon.svg', 'Commons-logo.svg', 'Red_pog.svg', 'Wikisource-logo.svg', 'Cscr-featured.svg'}\n",
      "CPU times: user 1.34 s, sys: 70 ms, total: 1.41 s\n",
      "Wall time: 17.3 s\n"
     ]
    }
   ],
   "source": [
    "%%time\n",
    "reader.query_img_captions(\n",
    "    filename=filename,\n",
    "    out_dir=query_params.out_dir,\n",
    "    offset=query_params.offset,\n",
    "    limit=query_params.limit,\n",
    "    language_code=query_params.language_code,\n",
    "    invalidate_cache=invalidate_caption_cache,\n",
    "    debug_info=query_params.debug_info,\n",
    ")"
   ]
  },
  {
   "cell_type": "markdown",
   "metadata": {},
   "source": [
    "## Data Preproccesing 2. Removing icons\n",
    "Most commonly, an icon is an auxiliary image which represents a particular template or category. It's not directly linked to the content described in the article, so we remove icons as noisy data. We identify them within other images under the assumption that user cannot load preview for icons on Wiki page. That is, if you click on icon from your browser, it will either do nothing or will redirect you to another page. While for images used in the article, it will load a full-screen preview. And while this approach will not work in 100% of cases, currently we identified it as the most reliable approach to perform icon identification.\n",
    "\n",
    "So in this part, we remove all images which were identified as icons."
   ]
  },
  {
   "cell_type": "code",
   "execution_count": 6,
   "metadata": {},
   "outputs": [
    {
     "name": "stdout",
     "output_type": "stream",
     "text": [
      "0 data/The_Lucy_poems\n",
      "1 data/Rampart_Dam\n",
      "2 data/The_Relapse\n",
      "3 data/Pendle_witches\n",
      "4 data/Kylfings\n"
     ]
    }
   ],
   "source": [
    "data_preprocessor.filter_img_metadata(\n",
    "    data_path=query_params.out_dir,\n",
    "    offset=query_params.offset,\n",
    "    limit=query_params.limit, \n",
    "    debug_info=query_params.debug_info,\n",
    "    field_to_remove='is_icon',\n",
    "    predicate=lambda x: not x['is_icon']\n",
    ")"
   ]
  },
  {
   "cell_type": "markdown",
   "metadata": {},
   "source": [
    "## Data Collection 3. Image Headings\n",
    "Also separate part of querying extra metadata for images, although might be merged into the main pipeline later on. For each image in the article, it parses all its parent headings. In other words, if picture is located in a block with title `<h3>Title 3</h3>`, then @headings field of the metadata will contain heading of the first, second and third level respectively, i.e. `[\"Title 1\", \"Title 2\", \"Title 3\"]`. We parse the entire tree because only with all that context headings have sense and show extra information. Thus you might consider joining all of them into a single space-separated descriptive sentence.\n",
    "\n",
    "Again, if you need further details, please refer to [Kaggle Dataset Page](https://www.kaggle.com/jacksoncrow/extended-wikipedia-multimodal-dataset)"
   ]
  },
  {
   "cell_type": "code",
   "execution_count": 7,
   "metadata": {
    "scrolled": true
   },
   "outputs": [
    {
     "name": "stdout",
     "output_type": "stream",
     "text": [
      "0 data/The_Relapse\n",
      "WARNING: Meta for page data/The_Relapse is missing the image File:Cscr-featured.svg. Either was removed intentionally or cache is outdated\n",
      "WARNING: Meta for page data/The_Relapse is missing the image File:Commons-logo.svg. Either was removed intentionally or cache is outdated\n",
      "WARNING: Meta for page data/The_Relapse is missing the image File:wikimedia-button.png. Either was removed intentionally or cache is outdated\n",
      "WARNING: Meta for page data/The_Relapse is missing the image File:poweredby_mediawiki_88x31.png. Either was removed intentionally or cache is outdated\n",
      "1 data/Pendle_witches\n",
      "WARNING: Meta for page data/Pendle_witches is missing the image File:Cscr-featured.svg. Either was removed intentionally or cache is outdated\n",
      "WARNING: Meta for page data/Pendle_witches is missing the image File:England_relief_location_map.jpg. Either was removed intentionally or cache is outdated\n",
      "WARNING: Meta for page data/Pendle_witches is missing the image File:Red_pog.svg. Either was removed intentionally or cache is outdated\n",
      "WARNING: Meta for page data/Pendle_witches is missing the image File:wikimedia-button.png. Either was removed intentionally or cache is outdated\n",
      "WARNING: Meta for page data/Pendle_witches is missing the image File:poweredby_mediawiki_88x31.png. Either was removed intentionally or cache is outdated\n",
      "2 data/Kylfings\n",
      "WARNING: Meta for page data/Kylfings is missing the image File:Cscr-featured.svg. Either was removed intentionally or cache is outdated\n",
      "WARNING: Meta for page data/Kylfings is missing the image File:wikimedia-button.png. Either was removed intentionally or cache is outdated\n",
      "WARNING: Meta for page data/Kylfings is missing the image File:poweredby_mediawiki_88x31.png. Either was removed intentionally or cache is outdated\n",
      "3 data/Rampart_Dam\n",
      "WARNING: Meta for page data/Rampart_Dam is missing the image File:Cscr-featured.svg. Either was removed intentionally or cache is outdated\n",
      "WARNING: Meta for page data/Rampart_Dam is missing the image File:Red_pog.svg. Either was removed intentionally or cache is outdated\n",
      "WARNING: Meta for page data/Rampart_Dam is missing the image File:Wind-turbine-icon.svg. Either was removed intentionally or cache is outdated\n",
      "WARNING: Meta for page data/Rampart_Dam is missing the image File:wikimedia-button.png. Either was removed intentionally or cache is outdated\n",
      "WARNING: Meta for page data/Rampart_Dam is missing the image File:poweredby_mediawiki_88x31.png. Either was removed intentionally or cache is outdated\n",
      "4 data/The_Lucy_poems\n",
      "WARNING: Meta for page data/The_Lucy_poems is missing the image File:Cscr-featured.svg. Either was removed intentionally or cache is outdated\n",
      "WARNING: Meta for page data/The_Lucy_poems is missing the image File:Wikisource-logo.svg. Either was removed intentionally or cache is outdated\n",
      "WARNING: Meta for page data/The_Lucy_poems is missing the image File:wikimedia-button.png. Either was removed intentionally or cache is outdated\n",
      "WARNING: Meta for page data/The_Lucy_poems is missing the image File:poweredby_mediawiki_88x31.png. Either was removed intentionally or cache is outdated\n",
      "CPU times: user 1.11 s, sys: 24 ms, total: 1.13 s\n",
      "Wall time: 2.75 s\n"
     ]
    }
   ],
   "source": [
    "%%time\n",
    "reader.query_img_headings(\n",
    "    filename=filename,\n",
    "    out_dir=query_params.out_dir,\n",
    "    offset=query_params.offset,\n",
    "    limit=query_params.limit,\n",
    "    language_code=query_params.language_code,\n",
    "    invalidate_cache=invalidate_headings_cache,\n",
    "    debug_info=query_params.debug_info,\n",
    ")"
   ]
  },
  {
   "cell_type": "markdown",
   "metadata": {},
   "source": [
    "## Data Preprocessing 3. Generating visual features\n",
    "Lastly, to make usage of dataset more time and space-efficient, we will calculate visual features for every image and record them in the dataset. By doing so, we will\n",
    "* save space: the raw image of shape (600,600,3) occupies 500 times more space than a visual feature vector with 2048 elements. At the same time, it provides the same amount of useful information\n",
    "* save time: calculating those features from scratch is a very time-consuming process. So by having them saved in the dataset, every user of the dataset will not need to calculate them as well\n",
    "\n",
    "For feature generation we used `ResNet152` pretrained on `ImageNet` dataset. And features themselves are the output of the lash hidden fully-connected layer of the network, which has the shape of (19, 24, 2048), and then transform it to a vector of 2048 items by the max-pooling operation. That vector of 2048 items will serve as our feature vector for each image.\n",
    "\n",
    "And while we understand that this representation might not be ideal in your scenario, it seems to be useful in various situation. If you need to calculate features in another way, please just modify this last step."
   ]
  },
  {
   "cell_type": "code",
   "execution_count": 8,
   "metadata": {},
   "outputs": [
    {
     "name": "stdout",
     "output_type": "stream",
     "text": [
      "0 data/The_Lucy_poems\n",
      "1 data/Rampart_Dam\n",
      "2 data/The_Relapse\n",
      "3 data/Pendle_witches\n",
      "4 data/Kylfings\n",
      "CPU times: user 5min 48s, sys: 3.96 s, total: 5min 52s\n",
      "Wall time: 1min 3s\n"
     ]
    }
   ],
   "source": [
    "%%time\n",
    "data_preprocessor.generate_visual_features(\n",
    "    data_path=query_params.out_dir,\n",
    "    offset=query_params.offset,\n",
    "    limit=query_params.limit,\n",
    "    debug_info=query_params.debug_info,\n",
    ")"
   ]
  },
  {
   "cell_type": "markdown",
   "metadata": {},
   "source": [
    "## Dataset Examinations\n",
    "### text.json file\n",
    "This file contains article textual information, such as: content of the article in wikitext and html format, article title, id, and url. For further details, please refer to [Kaggle Dataset Page](https://www.kaggle.com/jacksoncrow/extended-wikipedia-multimodal-dataset)"
   ]
  },
  {
   "cell_type": "code",
   "execution_count": 11,
   "metadata": {
    "scrolled": true
   },
   "outputs": [
    {
     "name": "stdout",
     "output_type": "stream",
     "text": [
      "{ 'html': '\\n'\n",
      "          '<!DOCTYPE html>\\n'\n",
      "          '<html class=\"client-nojs\" lang=\"en\" dir=\"ltr\">\\n'\n",
      "          '<head>\\n'\n",
      "          '<meta charset=\"UTF-8\"/>\\n'\n",
      "          '<title>The Relapse - Wikipedia</title>\\n'\n",
      "          '<script>document.documentElement.className=\"client-js\";RLCONF={\"wgBreakFrames\":!1,\"wgSeparatorTransformTable\":[\"\",\"\"],\"wgDigitTransformTable\":[\"\",\"\"],\"wgDefaultDateFormat\":\"dmy\",\"wgMonthNames\":[\"\",\"January\",\"February\",\"March\",\"April\",\"May\",\"June\",\"July\",\"August\",\"September\",\"October\",\"November\",\"December\"],\"wgRequestId\":\"Xn6sgQpAMFoAAK2rPZEAAAAL\",\"wgCSPNonce\":!1,\"wgCanonicalNamespace\":\"\",\"wgCanonicalSpecialPageName\":!1,\"wgNamespaceNumber\":0,\"wgPageName\":\"The_Relapse\",\"wgTitle\":\"The '\n",
      "          'Relapse\",\"wgCurRevisionId\":934587489,\"wgRevisionId\":934587489,\"wgArticleId\":216855,\"wgIsArticle\":!0,\"wgIsRedirect\":!1,\"wgAction\":\"view\",\"wgUserName\":null,\"wgUserGroups\":[\"*\"],\"wgCategories\":[\"Webarchive '\n",
      "          'template wayback links\",\"EngvarB from July 2019\",\"Use dmy dates '\n",
      "          'from July 2019\",\"Commons category link is on Wikidata\",\"Featured '\n",
      "          'articles\",\"Plays by John Vanbrugh\",\"Restoration comedy\",\"1696 '\n",
      "          'plays\",\"Plays set in the 17th '\n",
      "          'century\"],\"wgPageContentLanguage\":\"en\",\"wgPageContentModel\":\"wikitext\",\\n'\n",
      "          '\"wgRelevantPageName\":\"The_Relapse\",\"wgRelevantArticleId\":216855,\"wgIsProbablyEditable\":!0,\"wgRelevantPageIsProbablyEditable\":!0,\"wgRestrictionEdit\":[],\"wgRestrictionMove\":[],\"wgMediaViewerOnClick\":!0,\"wgMediaViewerEnabledByDefault\":!0,\"wgPopupsReferencePreviews\":!1,\"wgPopupsConflictsWithNavPopupGadget\":!1,\"wgVisualEditor\":{\"pageLanguageCode\":\"en\",\"pageLanguageDir\":\"ltr\",\"pageVariantFallbacks\":\"en\"},\"wgMFDisplayWikibaseDescriptions\":{\"search\":!0,\"nearby\":!0,\"watchlist\":!0,\"tagline\":!1},\"wgWMESchemaEditAttemptStepOversample\":!1,\"wgULSCurrentAutonym\":\"English\",\"wgNoticeProject\":\"wikipedia\",\"wgWikibaseItemId\":\"Q3058431\",\"wgCentralAuthMobileDomain\":!1,\"wgEditSubmitButtonLabelPublish\":!0};RLSTATE={\"ext.globalCssJs.user.styles\":\"ready\",\"site.styles\":\"ready\",\"noscript\":\"ready\",\"user.styles\":\"ready\",\"ext.globalCssJs.user\":\"ready\",\"user\":\"ready\",\"user.options\":\"loading\",\"ext.cite.styles\":\"ready\",\"jquery.makeCollapsible.styles\":\"ready\",\"mediawiki.toc.styles\":\"ready\"\\n'\n",
      "          ',\"skins.vector.styles.legacy\":\"ready\",\"wikibase.client.init\":\"ready\",\"ext.visualEditor.desktopArticleTarget.noscript\":\"ready\",\"ext.uls.interlanguage\":\"ready\",\"ext.wikimediaBadges\":\"ready\"};RLPAGEMODULES=[\"ext.cite.ux-enhancements\",\"site\",\"mediawiki.page.startup\",\"skins.vector.js\",\"mediawiki.page.ready\",\"jquery.makeCollapsible\",\"mediawiki.toc\",\"ext.gadget.ReferenceTooltips\",\"ext.gadget.charinsert\",\"ext.gadget.refToolbar\",\"ext.gadget.extra-toolbar-buttons\",\"ext.gadget.switcher\",\"ext.centralauth.centralautologin\",\"mmv.head\",\"mmv.bootstrap.autostart\",\"ext.popups\",\"ext.visualEditor.desktopArticleTarget.init\",\"ext.visualEditor.targetLoader\",\"ext.eventLogging\",\"ext.wikimediaEvents\",\"ext.navigationTiming\",\"ext.uls.compactlinks\",\"ext.uls.interface\",\"ext.cx.eventlogging.campaigns\",\"ext.quicksurveys.init\",\"ext.centralNotice.geoIP\",\"ext.centralNotice.startUp\"];</script>\\n'\n",
      "          '<script>(RLQ=window.RLQ||[]).push(function(){mw.loader.implement(\"user.options@1hzgi\",function($,jQuery,require,module){/*@nomin*/mw.user.tokens.set({\"patrolToken\":\"+\\\\\\\\\",\"watchToken\":\"+\\\\\\\\\",\"csrfToken\":\"+\\\\\\\\\"});\\n'\n",
      "          '});});</script>\\n'\n",
      "          '<link rel=\"stylesheet\" '\n",
      "          'href=\"/w/load.php?lang=en&amp;modules=ext.cite.styles%7Cext.uls.interlanguage%7Cext.visualEditor.desktopArticleTarget.noscript%7Cext.wikimediaBadges%7Cjquery.makeCollapsible.styles%7Cmediawiki.toc.styles%7Cskins.vector.styles.legacy%7Cwikibase.client.init&amp;only=styles&amp;skin=vector\"/>\\n'\n",
      "          '<script async=\"\" '\n",
      "          'src=\"/w/load.php?lang=en&amp;modules=startup&amp;only=scripts&amp;raw=1&amp;skin=vector\"></script>\\n'\n",
      "          '<meta name=\"ResourceLoaderDynamicStyles\" content=\"\"/>\\n'\n",
      "          '<link rel=\"stylesheet\" '\n",
      "          'href=\"/w/load.php?lang=en&amp;modules=site.styles&amp;only=styles&amp;skin=vector\"/>\\n'\n",
      "          '<meta name=\"generator\" content=\"MediaWiki 1.35.0-wmf.25\"/>\\n'\n",
      "          '<meta name=\"referrer\" content=\"origin\"/>\\n'\n",
      "          '<meta name=\"referrer\" content=\"origin-when-crossorigin\"/>\\n'\n",
      "          '<meta name=\"referrer\" content=\"origin-when-cross-origin\"/>\\n'\n",
      "          '<meta property=\"og:image\" '\n",
      "          'content=\"https://upload.wikimedia.org/wikipedia/commons/5/57/John_Vanbrugh.jpg\"/>\\n'\n",
      "          '<link rel=\"alternate\" type=\"application/x-wiki\" title=\"Edit this '\n",
      "          'page\" href=\"/w/index.php?title=The_Relapse&amp;action=edit\"/>\\n'\n",
      "          '<link rel=\"edit\" title=\"Edit this page\" '\n",
      "          'href=\"/w/index.php?title=The_Relapse&amp;action=edit\"/>\\n'\n",
      "          '<link rel=\"apple-touch-icon\" '\n",
      "          'href=\"/static/apple-touch/wikipedia.png\"/>\\n'\n",
      "          '<link rel=\"shortcut icon\" href=\"/static/favicon/wikipedia.ico\"/>\\n'\n",
      "          '<link rel=\"search\" type=\"application/opensearchdescription+xml\" '\n",
      "          'href=\"/w/opensearch_desc.php\" title=\"Wikipedia (en)\"/>\\n'\n",
      "          '<link rel=\"EditURI\" type=\"application/rsd+xml\" '\n",
      "          'href=\"//en.wikipedia.org/w/api.php?action=rsd\"/>\\n'\n",
      "          '<link rel=\"license\" '\n",
      "          'href=\"//creativecommons.org/licenses/by-sa/3.0/\"/>\\n'\n",
      "          '<link rel=\"alternate\" type=\"application/atom+xml\" title=\"Wikipedia '\n",
      "          'Atom feed\" '\n",
      "          'href=\"/w/index.php?title=Special:RecentChanges&amp;feed=atom\"/>\\n'\n",
      "          '<link rel=\"canonical\" '\n",
      "          'href=\"https://en.wikipedia.org/wiki/The_Relapse\"/>\\n'\n",
      "          '<link rel=\"dns-prefetch\" href=\"//login',\n",
      "  'id': 216855,\n",
      "  'title': 'The Relapse',\n",
      "  'url': 'https://en.wikipedia.org/wiki/The_Relapse',\n",
      "  'wikitext': '{{italic title}}\\n'\n",
      "              '{{EngvarB|date=July 2019}}\\n'\n",
      "              '{{Use dmy dates|date=July 2019}}\\n'\n",
      "              '[[File:John Vanbrugh.jpg|thumb|[[John Vanbrugh]] (1664–1726), '\n",
      "              \"author of ''The Relapse'', by [[Godfrey Kneller]]]]\\n\"\n",
      "              '\\n'\n",
      "              \"'''''The Relapse, or, Virtue in Danger''''' is a [[Restoration \"\n",
      "              'comedy]] from 1696 written by [[John Vanbrugh]]. The play is a '\n",
      "              \"sequel to [[Colley Cibber]]'s ''[[Love's Last Shift|Love's Last \"\n",
      "              \"Shift, or, The Fool in Fashion]]''.\\n\"\n",
      "              '\\n'\n",
      "              \"In Cibber's ''Love's Last Shift'', a free-living [[Restoration \"\n",
      "              '(England)|Restoration]] [[Rake (character)|rake]] is brought to '\n",
      "              \"repentance and reform by the ruses of his wife, while in ''The \"\n",
      "              \"Relapse'', the rake succumbs again to temptation and has a new \"\n",
      "              'love affair. His virtuous wife is also subjected to a '\n",
      "              'determined seduction attempt, and resists with difficulty.\\n'\n",
      "              '\\n'\n",
      "              \"Vanbrugh planned ''The Relapse'' around particular actors at \"\n",
      "              '[[Theatre Royal, Drury Lane|Drury Lane]], writing their stage '\n",
      "              'habits, public reputations, and personal relationships into the '\n",
      "              'text. One such actor was Colley Cibber himself, who played the '\n",
      "              \"luxuriant [[fop]] Lord Foppington in both ''Love's Last Shift'' \"\n",
      "              \"and ''The Relapse''. However, Vanbrugh's artistic plans were \"\n",
      "              \"threatened by a cutthroat struggle between London's two theatre \"\n",
      "              'companies, each of which was \"seducing\" actors from the other. '\n",
      "              \"''The Relapse'' came close to being not produced at all, but \"\n",
      "              'the successful performance that was eventually achieved in '\n",
      "              \"November 1696 vindicated Vanbrugh's intentions, and saved the \"\n",
      "              'company from bankruptcy as well.\\n'\n",
      "              '\\n'\n",
      "              \"Unlike ''Love's Last Shift'', which never again performed after \"\n",
      "              \"the 1690s, ''The Relapse'' has retained its [[audience]] \"\n",
      "              'appeal. In the 18th century, however, its tolerant attitude '\n",
      "              'towards actual and attempted [[adultery]] gradually became '\n",
      "              'unacceptable to public opinion, and the original play was for a '\n",
      "              'century replaced on the stage by [[Richard Brinsley '\n",
      "              \"Sheridan|Sheridan]]'s moralised version ''[[A Trip to \"\n",
      "              \"Scarborough]]'' (1777). On the modern stage, ''The Relapse'' \"\n",
      "              'has been established as one of the most popular Restoration '\n",
      "              \"comedies, valued for Vanbrugh's light, throwaway wit<ref>See \"\n",
      "              'Faller.</ref> and the consummate acting part of Lord '\n",
      "              'Foppington, a [[burlesque]] character with a dark side.<ref>See '\n",
      "              '[http://www.nationaltheatre.org.uk/?lid=1211&dspl=reviews '\n",
      "              \"reviews] of Trevor Nunn's 2001 production by Michael Coveney in \"\n",
      "              \"the ''Daily Mail'' and Michael Billington in the ''Guardian'', \"\n",
      "              'each of which makes this point.</ref>\\n'\n",
      "              '\\n'\n",
      "              \"==''The Relapse'' as sequel==\\n\"\n",
      "              '===Sexual ideology===\\n'\n",
      "              \"''Love's Last Shift'' can be seen as an early sign of Cibber's \"\n",
      "              'sensitivity to shifts of public opinion, which was to be useful '\n",
      "              'to him in his later career as manager at Drury Lane (see '\n",
      "              '[[Colley Cibber]]). In the 1690s, the economic and political '\n",
      "              'power balance of the nation tilted from the [[aristocracy]] '\n",
      "              'towards the middle class after the [[Glorious Revolution]] of '\n",
      "              '1688, and middle-class values of religion, morality, and '\n",
      "              '[[gender role]]s became more dominant, not least in attitudes '\n",
      "              \"to the stage. ''Love's Last Shift'' is one of the first \"\n",
      "              'illustrations of a massive shift in audience taste, away from '\n",
      "              'the analytic bent and sexual frankness of [[Restoration '\n",
      "              'comedy]] and towards the conservative certainties and '\n",
      "              '[[gender]] role [[backlash (sociology)|backlash]] of exemplary '\n",
      "              \"or sentimental comedy. The play illustrates Cibber's \"\n",
      "              'opportunism at a moment in time before the change was assured: '\n",
      "              'fearless of self-contradiction, he puts something into his '\n",
      "              'first play to please every section of the audience, combining '\n",
      "              'the old outspokenness with the new preachiness. The way '\n",
      "              'Vanbrugh, in his turn, allows the reformed rake to relapse '\n",
      "              'quite cheerfully, and has the only preaching in the play come '\n",
      "              'from the comically corrupt parson of \"Fatgoose Living\", has '\n",
      "              \"made some early 20th-century critics refer to ''The Relapse'' \"\n",
      "              'as the last of the true Restoration comedies.<ref>Dobrée.</ref> '\n",
      "              \"However, Vanbrugh's play is also affected by the taste of the \"\n",
      "              '1690s, and compared to a play like the courtier [[William '\n",
      "              \"Wycherley]]'s ''[[The Country Wife]]'' of 20 years earlier, \"\n",
      "              'with its celebration of predatory aristocratic masculinity, '\n",
      "              \"''The Relapse'' contains quite a few moments of morality and \"\n",
      "              \"uplift. In fact it has a kind of parallel structure to ''Love's \"\n",
      "              \"Last Shift'': in the climactic scene of Cibber's play, Amanda's \"\n",
      "              'virtue reforms her husband, and in the corresponding scene of '\n",
      "              \"''The Relapse'', it reforms her admirer Worthy. Such moments \"\n",
      "              'have not done the play any favours with modern critics.\\n'\n",
      "              '\\n'\n",
      "              \"===''Love's Last Shift'' plot===\\n\"\n",
      "              '\\'\\'Love\\'s Last Shift\\'\\' is the story of a last \"shift\" or '\n",
      "              'trick that a virtuous wife, Amanda, is driven to reform and '\n",
      "              'retain her [[rake (character)|rakish]] husband Loveless. '\n",
      "              'Loveless has been away for ten years, dividing his time between '\n",
      "              'the brothel and the bottle, and no longer recognises his wife '\n",
      "              'when he returns to London. Acting the part of a high-class '\n",
      "              'prostitute, Amanda lures Loveless into her luxurious house and '\n",
      "              'treats him to the night of his dreams, confessing her true '\n",
      "              'identity in '}\n"
     ]
    }
   ],
   "source": [
    "import json\n",
    "import pprint\n",
    "\n",
    "text_path = out_dir + \"The_Relapse\" + \"/text.json\"\n",
    "pp = pprint.PrettyPrinter(indent=2)\n",
    "data = None\n",
    "with open(text_path) as json_file:\n",
    "    data = json.loads(json.load(json_file))\n",
    "\n",
    "print_data = data\n",
    "print_data['wikitext'] = print_data['wikitext'][:5000]\n",
    "print_data['html'] = print_data['html'][:5000]\n",
    "\n",
    "pp.pprint(print_data)"
   ]
  },
  {
   "cell_type": "markdown",
   "metadata": {},
   "source": [
    "### meta.json file\n",
    "This file contains visual features of all articles images as well as some image metadata such as: description from Commons dataset, caption from the article, title, url and filename. For further details, please refer to [Kaggle Dataset Page](https://www.kaggle.com/jacksoncrow/extended-wikipedia-multimodal-dataset)"
   ]
  },
  {
   "cell_type": "code",
   "execution_count": 12,
   "metadata": {
    "scrolled": false
   },
   "outputs": [
    {
     "name": "stdout",
     "output_type": "stream",
     "text": [
      "{ 0: { 'description': 'Clipped version of Engraving of a painting of the '\n",
      "                      'English actor Colley Cibber as Lord Foppington in the '\n",
      "                      'Restoration comedy The Relapse (1696) by John Vanbrugh',\n",
      "       'features': [ '9.525463',\n",
      "                     '14.151308',\n",
      "                     '8.883457',\n",
      "                     '2.0813723',\n",
      "                     '2.3151853',\n",
      "                     '18.83172',\n",
      "                     '6.1366034',\n",
      "                     '4.4346333',\n",
      "                     '11.544488',\n",
      "                     '26.044575'],\n",
      "       'filename': 'b647ad40095d319b81f188def08e9ac0.jpg',\n",
      "       'headings': ['The Relapse', 'External links'],\n",
      "       'title': 'Colley Cibber as Lord Foppington clipped.jpg',\n",
      "       'url': 'https://en.wikipedia.org/wiki/File%3AColley_Cibber_as_Lord_Foppington_clipped.jpg'},\n",
      "  1: { 'caption': \"Young Colley Cibber as Vanbrugh's Lord Foppington, \"\n",
      "                  '\"brutal, evil, and smart\".',\n",
      "       'description': 'Engraving of a painting of the English actor Colley '\n",
      "                      'Cibber as Lord Foppington in the Restoration comedy The '\n",
      "                      'Relapse (1696) by John Vanbrugh',\n",
      "       'features': [ '11.926327',\n",
      "                     '12.869678',\n",
      "                     '6.605338',\n",
      "                     '3.9822667',\n",
      "                     '5.3282',\n",
      "                     '25.428505',\n",
      "                     '4.3868747',\n",
      "                     '2.672845',\n",
      "                     '7.8355494',\n",
      "                     '18.73917'],\n",
      "       'filename': 'bc3c539a55da7f84369eb25234c53b7e.jpg',\n",
      "       'headings': ['The Relapse', 'Casting', 'The Relapse cast'],\n",
      "       'title': 'Colley Cibber as Lord Foppington in The Relapse by John '\n",
      "                'Vanbrugh engraving.jpg',\n",
      "       'url': 'https://en.wikipedia.org/wiki/File%3AColley_Cibber_as_Lord_Foppington_in_The_Relapse_by_John_Vanbrugh_engraving.jpg'},\n",
      "  2: { 'caption': 'John Vanbrugh (1664–1726), author of The Relapse, by '\n",
      "                  'Godfrey Kneller',\n",
      "       'features': [ '8.000111',\n",
      "                     '2.4675179',\n",
      "                     '1.2752172',\n",
      "                     '24.548092',\n",
      "                     '14.63295',\n",
      "                     '24.462534',\n",
      "                     '8.02226',\n",
      "                     '7.577411',\n",
      "                     '19.569874',\n",
      "                     '7.8356133'],\n",
      "       'filename': '5700112581fc9f0d09c74d6be58b50f2.jpg',\n",
      "       'headings': ['The Relapse'],\n",
      "       'title': 'John Vanbrugh.jpg',\n",
      "       'url': 'https://en.wikipedia.org/wiki/File%3AJohn_Vanbrugh.jpg'},\n",
      "  3: { 'caption': \"The Love's Last Shift cast list. Please click for larger \"\n",
      "                  'image.',\n",
      "       'features': [ '7.1767097',\n",
      "                     '0.9435003',\n",
      "                     '7.9729614',\n",
      "                     '11.464046',\n",
      "                     '6.9904375',\n",
      "                     '13.13025',\n",
      "                     '4.3007927',\n",
      "                     '5.7640486',\n",
      "                     '11.042392',\n",
      "                     '2.8130713'],\n",
      "       'filename': '5b83ef91f8b1037afd39fab86a12b535.jpg',\n",
      "       'headings': ['The Relapse', 'Casting', \"Love's Last Shift cast\"],\n",
      "       'title': \"Love'sLastShift characters.png\",\n",
      "       'url': 'https://en.wikipedia.org/wiki/File%3ALove%27sLastShift_characters.png'},\n",
      "  4: { 'caption': 'The Relapse cast list. Please click for larger image.',\n",
      "       'features': [ '6.746286',\n",
      "                     '4.1356144',\n",
      "                     '6.0781593',\n",
      "                     '11.686025',\n",
      "                     '5.554032',\n",
      "                     '13.883085',\n",
      "                     '4.4974174',\n",
      "                     '6.523183',\n",
      "                     '10.560545',\n",
      "                     '3.4964712'],\n",
      "       'filename': 'c5b78b9fd640ad77a92756ba62a7edf6.jpg',\n",
      "       'headings': ['The Relapse', 'Casting', 'The Relapse cast'],\n",
      "       'title': 'Relapse characters.png',\n",
      "       'url': 'https://en.wikipedia.org/wiki/File%3ARelapse_characters.png'},\n",
      "  5: { 'caption': 'Trickster subplot in The Relapse: Tom Fashion, pretending '\n",
      "                  'to be Lord Foppington, parleys with Sir Tunbelly Clumsey in '\n",
      "                  'a 19th-century illustration by William Powell Frith.',\n",
      "       'description': \"Scene from John Vanbrugh's The Relapse (1696) - \"\n",
      "                      'Midnight alarm, with Fashion, Lory and Sir Tunbelly '\n",
      "                      '(3.3)',\n",
      "       'features': [ '3.37948',\n",
      "                     '1.6763284',\n",
      "                     '7.717412',\n",
      "                     '2.8768845',\n",
      "                     '0.25113064',\n",
      "                     '9.26565',\n",
      "                     '2.7457037',\n",
      "                     '1.8622153',\n",
      "                     '10.001432',\n",
      "                     '5.097927'],\n",
      "       'filename': '782a11edfa0639ad6912a2ee369e5d6d.jpg',\n",
      "       'headings': ['The Relapse', 'Stage history'],\n",
      "       'title': 'William Powell Frith The Relapse Midnight Alarm 3-3.jpg',\n",
      "       'url': 'https://en.wikipedia.org/wiki/File%3AWilliam_Powell_Frith_The_Relapse_Midnight_Alarm_3-3.jpg'}}\n"
     ]
    }
   ],
   "source": [
    "import json\n",
    "import pprint\n",
    "\n",
    "meta_path = out_dir + \"The_Relapse\" + \"/img/meta.json\"\n",
    "pp = pprint.PrettyPrinter(indent=2)\n",
    "data = None\n",
    "with open(meta_path) as json_file:\n",
    "    data = json.loads(json.load(json_file))['img_meta']\n",
    "\n",
    "print_data = data\n",
    "for i in range(len(print_data)):\n",
    "    if 'features' in print_data[i]:\n",
    "        print_data[i]['features'] = print_data[i]['features'][:10]\n",
    "print_data = {i:x for i,x in enumerate(print_data)}\n",
    "\n",
    "pp.pprint(print_data)"
   ]
  },
  {
   "cell_type": "code",
   "execution_count": null,
   "metadata": {},
   "outputs": [],
   "source": []
  }
 ],
 "metadata": {
  "kernelspec": {
   "display_name": "Python 3",
   "language": "python",
   "name": "python3"
  },
  "language_info": {
   "codemirror_mode": {
    "name": "ipython",
    "version": 3
   },
   "file_extension": ".py",
   "mimetype": "text/x-python",
   "name": "python",
   "nbconvert_exporter": "python",
   "pygments_lexer": "ipython3",
   "version": "3.7.4"
  }
 },
 "nbformat": 4,
 "nbformat_minor": 2
}
